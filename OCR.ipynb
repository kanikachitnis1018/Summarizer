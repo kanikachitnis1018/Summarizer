{
  "nbformat": 4,
  "nbformat_minor": 0,
  "metadata": {
    "colab": {
      "provenance": [],
      "authorship_tag": "ABX9TyNZS83Cf1KpMdtAIauqXOqK",
      "include_colab_link": true
    },
    "kernelspec": {
      "name": "python3",
      "display_name": "Python 3"
    },
    "language_info": {
      "name": "python"
    }
  },
  "cells": [
    {
      "cell_type": "markdown",
      "metadata": {
        "id": "view-in-github",
        "colab_type": "text"
      },
      "source": [
        "<a href=\"https://colab.research.google.com/github/kanikachitnis1018/Summarizer/blob/main/OCR.ipynb\" target=\"_parent\"><img src=\"https://colab.research.google.com/assets/colab-badge.svg\" alt=\"Open In Colab\"/></a>"
      ]
    },
    {
      "cell_type": "code",
      "source": [
        "# Install dependencies\n",
        "# pip install kagglehub pandas\n",
        "\n",
        "import kagglehub\n",
        "import pandas as pd\n",
        "\n",
        "# Download the dataset\n",
        "dataset_path = kagglehub.dataset_download(\"sumitm004/arxiv-scientific-research-papers-dataset\")\n",
        "\n",
        "print(f\"Dataset downloaded to: {dataset_path}\")\n",
        "\n",
        "# Find your CSV (it’s usually named something like 'arxiv-metadata.csv')\n",
        "import os\n",
        "for root, dirs, files in os.walk(dataset_path):\n",
        "    for file in files:\n",
        "        if file.endswith(\".csv\"):\n",
        "            file_path = os.path.join(root, file)\n",
        "            print(\"Found CSV file:\", file_path)\n",
        "\n",
        "# Load the CSV\n",
        "df = pd.read_csv(file_path)\n",
        "print(\"Columns:\", df.columns)\n",
        "print(df.head())\n"
      ],
      "metadata": {
        "colab": {
          "base_uri": "https://localhost:8080/"
        },
        "id": "jaYemX9AMgL3",
        "outputId": "ff278802-b5f6-492e-c238-8454487a462e"
      },
      "execution_count": 2,
      "outputs": [
        {
          "output_type": "stream",
          "name": "stdout",
          "text": [
            "Downloading from https://www.kaggle.com/api/v1/datasets/download/sumitm004/arxiv-scientific-research-papers-dataset?dataset_version_number=2...\n"
          ]
        },
        {
          "output_type": "stream",
          "name": "stderr",
          "text": [
            "100%|██████████| 62.4M/62.4M [00:00<00:00, 141MB/s]"
          ]
        },
        {
          "output_type": "stream",
          "name": "stdout",
          "text": [
            "Extracting files...\n"
          ]
        },
        {
          "output_type": "stream",
          "name": "stderr",
          "text": [
            "\n"
          ]
        },
        {
          "output_type": "stream",
          "name": "stdout",
          "text": [
            "Dataset downloaded to: /root/.cache/kagglehub/datasets/sumitm004/arxiv-scientific-research-papers-dataset/versions/2\n",
            "Found CSV file: /root/.cache/kagglehub/datasets/sumitm004/arxiv-scientific-research-papers-dataset/versions/2/arXiv_scientific dataset.csv\n",
            "Columns: Index(['id', 'title', 'category', 'category_code', 'published_date',\n",
            "       'updated_date', 'authors', 'first_author', 'summary',\n",
            "       'summary_word_count'],\n",
            "      dtype='object')\n",
            "             id                                              title  \\\n",
            "0  cs-9308101v1                               Dynamic Backtracking   \n",
            "1  cs-9308102v1  A Market-Oriented Programming Environment and ...   \n",
            "2  cs-9309101v1            An Empirical Analysis of Search in GSAT   \n",
            "3  cs-9311101v1  The Difficulties of Learning Logic Programs wi...   \n",
            "4  cs-9311102v1  Software Agents: Completing Patterns and Const...   \n",
            "\n",
            "                  category category_code published_date updated_date  \\\n",
            "0  Artificial Intelligence         cs.AI         8/1/93       8/1/93   \n",
            "1  Artificial Intelligence         cs.AI         8/1/93       8/1/93   \n",
            "2  Artificial Intelligence         cs.AI         9/1/93       9/1/93   \n",
            "3  Artificial Intelligence         cs.AI        11/1/93      11/1/93   \n",
            "4  Artificial Intelligence         cs.AI        11/1/93      11/1/93   \n",
            "\n",
            "                                          authors       first_author  \\\n",
            "0                              ['M. L. Ginsberg']   'M. L. Ginsberg'   \n",
            "1                               ['M. P. Wellman']    'M. P. Wellman'   \n",
            "2                      ['I. P. Gent', 'T. Walsh']       'I. P. Gent'   \n",
            "3  ['F. Bergadano', 'D. Gunetti', 'U. Trinchero']     'F. Bergadano'   \n",
            "4            ['J. C. Schlimmer', 'L. A. Hermens']  'J. C. Schlimmer'   \n",
            "\n",
            "                                             summary  summary_word_count  \n",
            "0  Because of their occasional need to return to ...                  79  \n",
            "1  Market price systems constitute a well-underst...                 119  \n",
            "2  We describe an extensive study of search in GS...                 167  \n",
            "3  As real logic programmers normally use cut (!)...                 174  \n",
            "4  To support the goal of allowing users to recor...                 187  \n"
          ]
        }
      ]
    },
    {
      "cell_type": "code",
      "source": [
        "print(\"Columns in the dataset:\\n\", df.columns.tolist())\n",
        "\n",
        "print(\"\\nFirst 5 rows:\")\n",
        "print(df.head())"
      ],
      "metadata": {
        "id": "GgvWUJ4oMip5",
        "colab": {
          "base_uri": "https://localhost:8080/"
        },
        "outputId": "5e7a8685-b390-4a8e-ce02-0561370c4b95"
      },
      "execution_count": 3,
      "outputs": [
        {
          "output_type": "stream",
          "name": "stdout",
          "text": [
            "Columns in the dataset:\n",
            " ['id', 'title', 'category', 'category_code', 'published_date', 'updated_date', 'authors', 'first_author', 'summary', 'summary_word_count']\n",
            "\n",
            "First 5 rows:\n",
            "             id                                              title  \\\n",
            "0  cs-9308101v1                               Dynamic Backtracking   \n",
            "1  cs-9308102v1  A Market-Oriented Programming Environment and ...   \n",
            "2  cs-9309101v1            An Empirical Analysis of Search in GSAT   \n",
            "3  cs-9311101v1  The Difficulties of Learning Logic Programs wi...   \n",
            "4  cs-9311102v1  Software Agents: Completing Patterns and Const...   \n",
            "\n",
            "                  category category_code published_date updated_date  \\\n",
            "0  Artificial Intelligence         cs.AI         8/1/93       8/1/93   \n",
            "1  Artificial Intelligence         cs.AI         8/1/93       8/1/93   \n",
            "2  Artificial Intelligence         cs.AI         9/1/93       9/1/93   \n",
            "3  Artificial Intelligence         cs.AI        11/1/93      11/1/93   \n",
            "4  Artificial Intelligence         cs.AI        11/1/93      11/1/93   \n",
            "\n",
            "                                          authors       first_author  \\\n",
            "0                              ['M. L. Ginsberg']   'M. L. Ginsberg'   \n",
            "1                               ['M. P. Wellman']    'M. P. Wellman'   \n",
            "2                      ['I. P. Gent', 'T. Walsh']       'I. P. Gent'   \n",
            "3  ['F. Bergadano', 'D. Gunetti', 'U. Trinchero']     'F. Bergadano'   \n",
            "4            ['J. C. Schlimmer', 'L. A. Hermens']  'J. C. Schlimmer'   \n",
            "\n",
            "                                             summary  summary_word_count  \n",
            "0  Because of their occasional need to return to ...                  79  \n",
            "1  Market price systems constitute a well-underst...                 119  \n",
            "2  We describe an extensive study of search in GS...                 167  \n",
            "3  As real logic programmers normally use cut (!)...                 174  \n",
            "4  To support the goal of allowing users to recor...                 187  \n"
          ]
        }
      ]
    },
    {
      "cell_type": "code",
      "source": [],
      "metadata": {
        "id": "AG0Kb29zcd6E"
      },
      "execution_count": null,
      "outputs": []
    }
  ]
}