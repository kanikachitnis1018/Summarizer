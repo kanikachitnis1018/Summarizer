{
  "nbformat": 4,
  "nbformat_minor": 0,
  "metadata": {
    "colab": {
      "provenance": [],
      "gpuType": "T4",
      "authorship_tag": "ABX9TyMV4rC8U2QgSP1Cwu+pjpQ7",
      "include_colab_link": true
    },
    "kernelspec": {
      "name": "python3",
      "display_name": "Python 3"
    },
    "language_info": {
      "name": "python"
    },
    "accelerator": "GPU"
  },
  "cells": [
    {
      "cell_type": "markdown",
      "metadata": {
        "id": "view-in-github",
        "colab_type": "text"
      },
      "source": [
        "<a href=\"https://colab.research.google.com/github/kanikachitnis1018/Summarizer/blob/main/flowchart_converter.ipynb\" target=\"_parent\"><img src=\"https://colab.research.google.com/assets/colab-badge.svg\" alt=\"Open In Colab\"/></a>"
      ]
    },
    {
      "cell_type": "code",
      "execution_count": 1,
      "metadata": {
        "colab": {
          "base_uri": "https://localhost:8080/"
        },
        "id": "_z4Su8FkD0SJ",
        "outputId": "ebcce70c-5e2d-4191-ed32-1da4bb529170"
      },
      "outputs": [
        {
          "output_type": "stream",
          "name": "stdout",
          "text": [
            "Requirement already satisfied: transformers in /usr/local/lib/python3.12/dist-packages (4.57.0)\n",
            "Requirement already satisfied: filelock in /usr/local/lib/python3.12/dist-packages (from transformers) (3.20.0)\n",
            "Requirement already satisfied: huggingface-hub<1.0,>=0.34.0 in /usr/local/lib/python3.12/dist-packages (from transformers) (0.35.3)\n",
            "Requirement already satisfied: numpy>=1.17 in /usr/local/lib/python3.12/dist-packages (from transformers) (2.0.2)\n",
            "Requirement already satisfied: packaging>=20.0 in /usr/local/lib/python3.12/dist-packages (from transformers) (25.0)\n",
            "Requirement already satisfied: pyyaml>=5.1 in /usr/local/lib/python3.12/dist-packages (from transformers) (6.0.3)\n",
            "Requirement already satisfied: regex!=2019.12.17 in /usr/local/lib/python3.12/dist-packages (from transformers) (2024.11.6)\n",
            "Requirement already satisfied: requests in /usr/local/lib/python3.12/dist-packages (from transformers) (2.32.4)\n",
            "Requirement already satisfied: tokenizers<=0.23.0,>=0.22.0 in /usr/local/lib/python3.12/dist-packages (from transformers) (0.22.1)\n",
            "Requirement already satisfied: safetensors>=0.4.3 in /usr/local/lib/python3.12/dist-packages (from transformers) (0.6.2)\n",
            "Requirement already satisfied: tqdm>=4.27 in /usr/local/lib/python3.12/dist-packages (from transformers) (4.67.1)\n",
            "Requirement already satisfied: fsspec>=2023.5.0 in /usr/local/lib/python3.12/dist-packages (from huggingface-hub<1.0,>=0.34.0->transformers) (2025.3.0)\n",
            "Requirement already satisfied: typing-extensions>=3.7.4.3 in /usr/local/lib/python3.12/dist-packages (from huggingface-hub<1.0,>=0.34.0->transformers) (4.15.0)\n",
            "Requirement already satisfied: hf-xet<2.0.0,>=1.1.3 in /usr/local/lib/python3.12/dist-packages (from huggingface-hub<1.0,>=0.34.0->transformers) (1.1.10)\n",
            "Requirement already satisfied: charset_normalizer<4,>=2 in /usr/local/lib/python3.12/dist-packages (from requests->transformers) (3.4.3)\n",
            "Requirement already satisfied: idna<4,>=2.5 in /usr/local/lib/python3.12/dist-packages (from requests->transformers) (3.10)\n",
            "Requirement already satisfied: urllib3<3,>=1.21.1 in /usr/local/lib/python3.12/dist-packages (from requests->transformers) (2.5.0)\n",
            "Requirement already satisfied: certifi>=2017.4.17 in /usr/local/lib/python3.12/dist-packages (from requests->transformers) (2025.10.5)\n",
            "Requirement already satisfied: torch in /usr/local/lib/python3.12/dist-packages (2.8.0+cu126)\n",
            "Requirement already satisfied: filelock in /usr/local/lib/python3.12/dist-packages (from torch) (3.20.0)\n",
            "Requirement already satisfied: typing-extensions>=4.10.0 in /usr/local/lib/python3.12/dist-packages (from torch) (4.15.0)\n",
            "Requirement already satisfied: setuptools in /usr/local/lib/python3.12/dist-packages (from torch) (75.2.0)\n",
            "Requirement already satisfied: sympy>=1.13.3 in /usr/local/lib/python3.12/dist-packages (from torch) (1.13.3)\n",
            "Requirement already satisfied: networkx in /usr/local/lib/python3.12/dist-packages (from torch) (3.5)\n",
            "Requirement already satisfied: jinja2 in /usr/local/lib/python3.12/dist-packages (from torch) (3.1.6)\n",
            "Requirement already satisfied: fsspec in /usr/local/lib/python3.12/dist-packages (from torch) (2025.3.0)\n",
            "Requirement already satisfied: nvidia-cuda-nvrtc-cu12==12.6.77 in /usr/local/lib/python3.12/dist-packages (from torch) (12.6.77)\n",
            "Requirement already satisfied: nvidia-cuda-runtime-cu12==12.6.77 in /usr/local/lib/python3.12/dist-packages (from torch) (12.6.77)\n",
            "Requirement already satisfied: nvidia-cuda-cupti-cu12==12.6.80 in /usr/local/lib/python3.12/dist-packages (from torch) (12.6.80)\n",
            "Requirement already satisfied: nvidia-cudnn-cu12==9.10.2.21 in /usr/local/lib/python3.12/dist-packages (from torch) (9.10.2.21)\n",
            "Requirement already satisfied: nvidia-cublas-cu12==12.6.4.1 in /usr/local/lib/python3.12/dist-packages (from torch) (12.6.4.1)\n",
            "Requirement already satisfied: nvidia-cufft-cu12==11.3.0.4 in /usr/local/lib/python3.12/dist-packages (from torch) (11.3.0.4)\n",
            "Requirement already satisfied: nvidia-curand-cu12==10.3.7.77 in /usr/local/lib/python3.12/dist-packages (from torch) (10.3.7.77)\n",
            "Requirement already satisfied: nvidia-cusolver-cu12==11.7.1.2 in /usr/local/lib/python3.12/dist-packages (from torch) (11.7.1.2)\n",
            "Requirement already satisfied: nvidia-cusparse-cu12==12.5.4.2 in /usr/local/lib/python3.12/dist-packages (from torch) (12.5.4.2)\n",
            "Requirement already satisfied: nvidia-cusparselt-cu12==0.7.1 in /usr/local/lib/python3.12/dist-packages (from torch) (0.7.1)\n",
            "Requirement already satisfied: nvidia-nccl-cu12==2.27.3 in /usr/local/lib/python3.12/dist-packages (from torch) (2.27.3)\n",
            "Requirement already satisfied: nvidia-nvtx-cu12==12.6.77 in /usr/local/lib/python3.12/dist-packages (from torch) (12.6.77)\n",
            "Requirement already satisfied: nvidia-nvjitlink-cu12==12.6.85 in /usr/local/lib/python3.12/dist-packages (from torch) (12.6.85)\n",
            "Requirement already satisfied: nvidia-cufile-cu12==1.11.1.6 in /usr/local/lib/python3.12/dist-packages (from torch) (1.11.1.6)\n",
            "Requirement already satisfied: triton==3.4.0 in /usr/local/lib/python3.12/dist-packages (from torch) (3.4.0)\n",
            "Requirement already satisfied: mpmath<1.4,>=1.1.0 in /usr/local/lib/python3.12/dist-packages (from sympy>=1.13.3->torch) (1.3.0)\n",
            "Requirement already satisfied: MarkupSafe>=2.0 in /usr/local/lib/python3.12/dist-packages (from jinja2->torch) (3.0.3)\n"
          ]
        }
      ],
      "source": [
        "!pip install transformers\n",
        "!pip install torch"
      ]
    },
    {
      "cell_type": "code",
      "source": [
        "!sudo apt-get update\n",
        "!sudo apt-get install poppler-utils\n",
        "!pip install pdf2image pytesseract Pillow"
      ],
      "metadata": {
        "colab": {
          "base_uri": "https://localhost:8080/"
        },
        "id": "FE1gqQubjP-C",
        "outputId": "a9bd3067-c55d-4595-e634-ce7849b66d44"
      },
      "execution_count": 2,
      "outputs": [
        {
          "output_type": "stream",
          "name": "stdout",
          "text": [
            "Hit:1 https://cli.github.com/packages stable InRelease\n",
            "Get:2 https://developer.download.nvidia.com/compute/cuda/repos/ubuntu2204/x86_64  InRelease [1,581 B]\n",
            "Get:3 https://cloud.r-project.org/bin/linux/ubuntu jammy-cran40/ InRelease [3,632 B]\n",
            "Hit:4 http://archive.ubuntu.com/ubuntu jammy InRelease\n",
            "Get:5 http://security.ubuntu.com/ubuntu jammy-security InRelease [129 kB]\n",
            "Get:6 http://archive.ubuntu.com/ubuntu jammy-updates InRelease [128 kB]\n",
            "Get:7 https://developer.download.nvidia.com/compute/cuda/repos/ubuntu2204/x86_64  Packages [2,077 kB]\n",
            "Get:8 https://r2u.stat.illinois.edu/ubuntu jammy InRelease [6,555 B]\n",
            "Get:9 http://archive.ubuntu.com/ubuntu jammy-backports InRelease [127 kB]\n",
            "Get:10 https://r2u.stat.illinois.edu/ubuntu jammy/main all Packages [9,353 kB]\n",
            "Get:11 http://security.ubuntu.com/ubuntu jammy-security/universe amd64 Packages [1,276 kB]\n",
            "Get:12 https://ppa.launchpadcontent.net/deadsnakes/ppa/ubuntu jammy InRelease [18.1 kB]\n",
            "Get:13 http://archive.ubuntu.com/ubuntu jammy-updates/universe amd64 Packages [1,584 kB]\n",
            "Hit:14 https://ppa.launchpadcontent.net/graphics-drivers/ppa/ubuntu jammy InRelease\n",
            "Get:15 http://security.ubuntu.com/ubuntu jammy-security/main amd64 Packages [3,425 kB]\n",
            "Get:16 http://archive.ubuntu.com/ubuntu jammy-updates/main amd64 Packages [3,751 kB]\n",
            "Hit:17 https://ppa.launchpadcontent.net/ubuntugis/ppa/ubuntu jammy InRelease\n",
            "Get:18 https://ppa.launchpadcontent.net/deadsnakes/ppa/ubuntu jammy/main amd64 Packages [32.8 kB]\n",
            "Get:19 https://r2u.stat.illinois.edu/ubuntu jammy/main amd64 Packages [2,813 kB]\n",
            "Fetched 24.7 MB in 3s (8,608 kB/s)\n",
            "Reading package lists... Done\n",
            "W: Skipping acquire of configured file 'main/source/Sources' as repository 'https://r2u.stat.illinois.edu/ubuntu jammy InRelease' does not seem to provide it (sources.list entry misspelt?)\n",
            "Reading package lists... Done\n",
            "Building dependency tree... Done\n",
            "Reading state information... Done\n",
            "The following NEW packages will be installed:\n",
            "  poppler-utils\n",
            "0 upgraded, 1 newly installed, 0 to remove and 45 not upgraded.\n",
            "Need to get 186 kB of archives.\n",
            "After this operation, 697 kB of additional disk space will be used.\n",
            "Get:1 http://archive.ubuntu.com/ubuntu jammy-updates/main amd64 poppler-utils amd64 22.02.0-2ubuntu0.11 [186 kB]\n",
            "Fetched 186 kB in 0s (425 kB/s)\n",
            "debconf: unable to initialize frontend: Dialog\n",
            "debconf: (No usable dialog-like program is installed, so the dialog based frontend cannot be used. at /usr/share/perl5/Debconf/FrontEnd/Dialog.pm line 78, <> line 1.)\n",
            "debconf: falling back to frontend: Readline\n",
            "debconf: unable to initialize frontend: Readline\n",
            "debconf: (This frontend requires a controlling tty.)\n",
            "debconf: falling back to frontend: Teletype\n",
            "dpkg-preconfigure: unable to re-open stdin: \n",
            "Selecting previously unselected package poppler-utils.\n",
            "(Reading database ... 126675 files and directories currently installed.)\n",
            "Preparing to unpack .../poppler-utils_22.02.0-2ubuntu0.11_amd64.deb ...\n",
            "Unpacking poppler-utils (22.02.0-2ubuntu0.11) ...\n",
            "Setting up poppler-utils (22.02.0-2ubuntu0.11) ...\n",
            "Processing triggers for man-db (2.10.2-1) ...\n",
            "Collecting pdf2image\n",
            "  Downloading pdf2image-1.17.0-py3-none-any.whl.metadata (6.2 kB)\n",
            "Collecting pytesseract\n",
            "  Downloading pytesseract-0.3.13-py3-none-any.whl.metadata (11 kB)\n",
            "Requirement already satisfied: Pillow in /usr/local/lib/python3.12/dist-packages (11.3.0)\n",
            "Requirement already satisfied: packaging>=21.3 in /usr/local/lib/python3.12/dist-packages (from pytesseract) (25.0)\n",
            "Downloading pdf2image-1.17.0-py3-none-any.whl (11 kB)\n",
            "Downloading pytesseract-0.3.13-py3-none-any.whl (14 kB)\n",
            "Installing collected packages: pytesseract, pdf2image\n",
            "Successfully installed pdf2image-1.17.0 pytesseract-0.3.13\n"
          ]
        }
      ]
    },
    {
      "cell_type": "code",
      "source": [
        "from transformers import AutoTokenizer, AutoModelForSeq2SeqLM\n",
        "import torch\n",
        "import re\n",
        "from pdf2image import convert_from_path # Make sure to run the installation cell first\n",
        "from PIL import Image\n",
        "import pytesseract\n",
        "import os"
      ],
      "metadata": {
        "id": "o81dBWsKEYk-"
      },
      "execution_count": 3,
      "outputs": []
    },
    {
      "cell_type": "code",
      "source": [
        "from google.colab import files\n",
        "from pdf2image import convert_from_path\n",
        "import cv2, numpy as np, pytesseract"
      ],
      "metadata": {
        "id": "uhGOUkTdj9l0"
      },
      "execution_count": 4,
      "outputs": []
    },
    {
      "cell_type": "code",
      "source": [
        "uploaded = files.upload()\n",
        "pdf_path = list(uploaded.keys())[0]\n",
        "pages = convert_from_path(pdf_path)\n",
        "\n",
        "def deskew(image):\n",
        "    gray = cv2.cvtColor(image, cv2.COLOR_BGR2GRAY)\n",
        "    gray = cv2.bitwise_not(gray)\n",
        "    coords = np.column_stack(np.where(gray > 0))\n",
        "    angle = cv2.minAreaRect(coords)[-1]\n",
        "    angle = -(90 + angle) if angle < -45 else -angle\n",
        "    (h, w) = image.shape[:2]\n",
        "    M = cv2.getRotationMatrix2D((w // 2, h // 2), angle, 1.0)\n",
        "    return cv2.warpAffine(image, M, (w, h), flags=cv2.INTER_CUBIC, borderMode=cv2.BORDER_REPLICATE)\n",
        "\n",
        "opencv_images = list(map(lambda p: cv2.cvtColor(np.array(p), cv2.COLOR_RGB2BGR), pages))\n",
        "deskewed_images = list(map(deskew, opencv_images))\n",
        "texts = list(map(lambda img: pytesseract.image_to_string(img), deskewed_images))\n",
        "extracted_text = \"\\n\".join(texts)"
      ],
      "metadata": {
        "id": "ADFRTynVjoCH",
        "colab": {
          "base_uri": "https://localhost:8080/",
          "height": 74
        },
        "outputId": "3153d2bf-b73c-4ac2-af6c-e7c148ae8904"
      },
      "execution_count": 5,
      "outputs": [
        {
          "output_type": "display_data",
          "data": {
            "text/plain": [
              "<IPython.core.display.HTML object>"
            ],
            "text/html": [
              "\n",
              "     <input type=\"file\" id=\"files-0f49386b-ff57-493d-afdb-0a214b6c0478\" name=\"files[]\" multiple disabled\n",
              "        style=\"border:none\" />\n",
              "     <output id=\"result-0f49386b-ff57-493d-afdb-0a214b6c0478\">\n",
              "      Upload widget is only available when the cell has been executed in the\n",
              "      current browser session. Please rerun this cell to enable.\n",
              "      </output>\n",
              "      <script>// Copyright 2017 Google LLC\n",
              "//\n",
              "// Licensed under the Apache License, Version 2.0 (the \"License\");\n",
              "// you may not use this file except in compliance with the License.\n",
              "// You may obtain a copy of the License at\n",
              "//\n",
              "//      http://www.apache.org/licenses/LICENSE-2.0\n",
              "//\n",
              "// Unless required by applicable law or agreed to in writing, software\n",
              "// distributed under the License is distributed on an \"AS IS\" BASIS,\n",
              "// WITHOUT WARRANTIES OR CONDITIONS OF ANY KIND, either express or implied.\n",
              "// See the License for the specific language governing permissions and\n",
              "// limitations under the License.\n",
              "\n",
              "/**\n",
              " * @fileoverview Helpers for google.colab Python module.\n",
              " */\n",
              "(function(scope) {\n",
              "function span(text, styleAttributes = {}) {\n",
              "  const element = document.createElement('span');\n",
              "  element.textContent = text;\n",
              "  for (const key of Object.keys(styleAttributes)) {\n",
              "    element.style[key] = styleAttributes[key];\n",
              "  }\n",
              "  return element;\n",
              "}\n",
              "\n",
              "// Max number of bytes which will be uploaded at a time.\n",
              "const MAX_PAYLOAD_SIZE = 100 * 1024;\n",
              "\n",
              "function _uploadFiles(inputId, outputId) {\n",
              "  const steps = uploadFilesStep(inputId, outputId);\n",
              "  const outputElement = document.getElementById(outputId);\n",
              "  // Cache steps on the outputElement to make it available for the next call\n",
              "  // to uploadFilesContinue from Python.\n",
              "  outputElement.steps = steps;\n",
              "\n",
              "  return _uploadFilesContinue(outputId);\n",
              "}\n",
              "\n",
              "// This is roughly an async generator (not supported in the browser yet),\n",
              "// where there are multiple asynchronous steps and the Python side is going\n",
              "// to poll for completion of each step.\n",
              "// This uses a Promise to block the python side on completion of each step,\n",
              "// then passes the result of the previous step as the input to the next step.\n",
              "function _uploadFilesContinue(outputId) {\n",
              "  const outputElement = document.getElementById(outputId);\n",
              "  const steps = outputElement.steps;\n",
              "\n",
              "  const next = steps.next(outputElement.lastPromiseValue);\n",
              "  return Promise.resolve(next.value.promise).then((value) => {\n",
              "    // Cache the last promise value to make it available to the next\n",
              "    // step of the generator.\n",
              "    outputElement.lastPromiseValue = value;\n",
              "    return next.value.response;\n",
              "  });\n",
              "}\n",
              "\n",
              "/**\n",
              " * Generator function which is called between each async step of the upload\n",
              " * process.\n",
              " * @param {string} inputId Element ID of the input file picker element.\n",
              " * @param {string} outputId Element ID of the output display.\n",
              " * @return {!Iterable<!Object>} Iterable of next steps.\n",
              " */\n",
              "function* uploadFilesStep(inputId, outputId) {\n",
              "  const inputElement = document.getElementById(inputId);\n",
              "  inputElement.disabled = false;\n",
              "\n",
              "  const outputElement = document.getElementById(outputId);\n",
              "  outputElement.innerHTML = '';\n",
              "\n",
              "  const pickedPromise = new Promise((resolve) => {\n",
              "    inputElement.addEventListener('change', (e) => {\n",
              "      resolve(e.target.files);\n",
              "    });\n",
              "  });\n",
              "\n",
              "  const cancel = document.createElement('button');\n",
              "  inputElement.parentElement.appendChild(cancel);\n",
              "  cancel.textContent = 'Cancel upload';\n",
              "  const cancelPromise = new Promise((resolve) => {\n",
              "    cancel.onclick = () => {\n",
              "      resolve(null);\n",
              "    };\n",
              "  });\n",
              "\n",
              "  // Wait for the user to pick the files.\n",
              "  const files = yield {\n",
              "    promise: Promise.race([pickedPromise, cancelPromise]),\n",
              "    response: {\n",
              "      action: 'starting',\n",
              "    }\n",
              "  };\n",
              "\n",
              "  cancel.remove();\n",
              "\n",
              "  // Disable the input element since further picks are not allowed.\n",
              "  inputElement.disabled = true;\n",
              "\n",
              "  if (!files) {\n",
              "    return {\n",
              "      response: {\n",
              "        action: 'complete',\n",
              "      }\n",
              "    };\n",
              "  }\n",
              "\n",
              "  for (const file of files) {\n",
              "    const li = document.createElement('li');\n",
              "    li.append(span(file.name, {fontWeight: 'bold'}));\n",
              "    li.append(span(\n",
              "        `(${file.type || 'n/a'}) - ${file.size} bytes, ` +\n",
              "        `last modified: ${\n",
              "            file.lastModifiedDate ? file.lastModifiedDate.toLocaleDateString() :\n",
              "                                    'n/a'} - `));\n",
              "    const percent = span('0% done');\n",
              "    li.appendChild(percent);\n",
              "\n",
              "    outputElement.appendChild(li);\n",
              "\n",
              "    const fileDataPromise = new Promise((resolve) => {\n",
              "      const reader = new FileReader();\n",
              "      reader.onload = (e) => {\n",
              "        resolve(e.target.result);\n",
              "      };\n",
              "      reader.readAsArrayBuffer(file);\n",
              "    });\n",
              "    // Wait for the data to be ready.\n",
              "    let fileData = yield {\n",
              "      promise: fileDataPromise,\n",
              "      response: {\n",
              "        action: 'continue',\n",
              "      }\n",
              "    };\n",
              "\n",
              "    // Use a chunked sending to avoid message size limits. See b/62115660.\n",
              "    let position = 0;\n",
              "    do {\n",
              "      const length = Math.min(fileData.byteLength - position, MAX_PAYLOAD_SIZE);\n",
              "      const chunk = new Uint8Array(fileData, position, length);\n",
              "      position += length;\n",
              "\n",
              "      const base64 = btoa(String.fromCharCode.apply(null, chunk));\n",
              "      yield {\n",
              "        response: {\n",
              "          action: 'append',\n",
              "          file: file.name,\n",
              "          data: base64,\n",
              "        },\n",
              "      };\n",
              "\n",
              "      let percentDone = fileData.byteLength === 0 ?\n",
              "          100 :\n",
              "          Math.round((position / fileData.byteLength) * 100);\n",
              "      percent.textContent = `${percentDone}% done`;\n",
              "\n",
              "    } while (position < fileData.byteLength);\n",
              "  }\n",
              "\n",
              "  // All done.\n",
              "  yield {\n",
              "    response: {\n",
              "      action: 'complete',\n",
              "    }\n",
              "  };\n",
              "}\n",
              "\n",
              "scope.google = scope.google || {};\n",
              "scope.google.colab = scope.google.colab || {};\n",
              "scope.google.colab._files = {\n",
              "  _uploadFiles,\n",
              "  _uploadFilesContinue,\n",
              "};\n",
              "})(self);\n",
              "</script> "
            ]
          },
          "metadata": {}
        },
        {
          "output_type": "stream",
          "name": "stdout",
          "text": [
            "Saving Lab_Guideline.pdf to Lab_Guideline.pdf\n"
          ]
        }
      ]
    },
    {
      "cell_type": "code",
      "source": [
        "import kagglehub\n",
        "import pandas as pd\n",
        "\n",
        "# Download the dataset\n",
        "dataset_path = kagglehub.dataset_download(\"sumitm004/arxiv-scientific-research-papers-dataset\")\n",
        "\n",
        "print(f\"Dataset downloaded to: {dataset_path}\")\n",
        "\n",
        "# Find your CSV (it’s usually named something like 'arxiv-metadata.csv')\n",
        "import os\n",
        "for root, dirs, files in os.walk(dataset_path):\n",
        "    for file in files:\n",
        "        if file.endswith(\".csv\"):\n",
        "            file_path = os.path.join(root, file)\n",
        "            print(\"Found CSV file:\", file_path)\n",
        "\n",
        "# Load the CSV\n",
        "df = pd.read_csv(file_path)\n",
        "print(\"Columns:\", df.columns)\n",
        "print(df.head())"
      ],
      "metadata": {
        "colab": {
          "base_uri": "https://localhost:8080/"
        },
        "id": "w2QNgvuzh_bD",
        "outputId": "765ed9ad-f36d-4f6b-a7c2-930aa1211f43"
      },
      "execution_count": 7,
      "outputs": [
        {
          "output_type": "stream",
          "name": "stdout",
          "text": [
            "Downloading from https://www.kaggle.com/api/v1/datasets/download/sumitm004/arxiv-scientific-research-papers-dataset?dataset_version_number=2...\n"
          ]
        },
        {
          "output_type": "stream",
          "name": "stderr",
          "text": [
            "100%|██████████| 62.4M/62.4M [00:00<00:00, 148MB/s]"
          ]
        },
        {
          "output_type": "stream",
          "name": "stdout",
          "text": [
            "Extracting files...\n"
          ]
        },
        {
          "output_type": "stream",
          "name": "stderr",
          "text": [
            "\n"
          ]
        },
        {
          "output_type": "stream",
          "name": "stdout",
          "text": [
            "Dataset downloaded to: /root/.cache/kagglehub/datasets/sumitm004/arxiv-scientific-research-papers-dataset/versions/2\n",
            "Found CSV file: /root/.cache/kagglehub/datasets/sumitm004/arxiv-scientific-research-papers-dataset/versions/2/arXiv_scientific dataset.csv\n",
            "Columns: Index(['id', 'title', 'category', 'category_code', 'published_date',\n",
            "       'updated_date', 'authors', 'first_author', 'summary',\n",
            "       'summary_word_count'],\n",
            "      dtype='object')\n",
            "             id                                              title  \\\n",
            "0  cs-9308101v1                               Dynamic Backtracking   \n",
            "1  cs-9308102v1  A Market-Oriented Programming Environment and ...   \n",
            "2  cs-9309101v1            An Empirical Analysis of Search in GSAT   \n",
            "3  cs-9311101v1  The Difficulties of Learning Logic Programs wi...   \n",
            "4  cs-9311102v1  Software Agents: Completing Patterns and Const...   \n",
            "\n",
            "                  category category_code published_date updated_date  \\\n",
            "0  Artificial Intelligence         cs.AI         8/1/93       8/1/93   \n",
            "1  Artificial Intelligence         cs.AI         8/1/93       8/1/93   \n",
            "2  Artificial Intelligence         cs.AI         9/1/93       9/1/93   \n",
            "3  Artificial Intelligence         cs.AI        11/1/93      11/1/93   \n",
            "4  Artificial Intelligence         cs.AI        11/1/93      11/1/93   \n",
            "\n",
            "                                          authors       first_author  \\\n",
            "0                              ['M. L. Ginsberg']   'M. L. Ginsberg'   \n",
            "1                               ['M. P. Wellman']    'M. P. Wellman'   \n",
            "2                      ['I. P. Gent', 'T. Walsh']       'I. P. Gent'   \n",
            "3  ['F. Bergadano', 'D. Gunetti', 'U. Trinchero']     'F. Bergadano'   \n",
            "4            ['J. C. Schlimmer', 'L. A. Hermens']  'J. C. Schlimmer'   \n",
            "\n",
            "                                             summary  summary_word_count  \n",
            "0  Because of their occasional need to return to ...                  79  \n",
            "1  Market price systems constitute a well-underst...                 119  \n",
            "2  We describe an extensive study of search in GS...                 167  \n",
            "3  As real logic programmers normally use cut (!)...                 174  \n",
            "4  To support the goal of allowing users to recor...                 187  \n"
          ]
        }
      ]
    },
    {
      "cell_type": "code",
      "source": [
        "df = df.dropna(subset=['summary'])\n",
        "abstracts = df['summary'].astype(str).tolist()\n",
        "\n",
        "abstracts = abstracts[:1]"
      ],
      "metadata": {
        "id": "10MteKKyiM0l"
      },
      "execution_count": 25,
      "outputs": []
    },
    {
      "cell_type": "code",
      "source": [
        "paragraphs = abstracts\n",
        "# paragraphs = text_to_be_split.split(\"\\n\\n\")\n",
        "\n",
        "paragraphs"
      ],
      "metadata": {
        "id": "nQGIDQujEe6T",
        "colab": {
          "base_uri": "https://localhost:8080/"
        },
        "outputId": "10179f1a-76ce-4a8c-f3e3-2e5099395e1d"
      },
      "execution_count": 26,
      "outputs": [
        {
          "output_type": "execute_result",
          "data": {
            "text/plain": [
              "['Because of their occasional need to return to shallow points in a search\\ntree, existing backtracking methods can sometimes erase meaningful progress\\ntoward solving a search problem. In this paper, we present a method by which\\nbacktrack points can be moved deeper in the search space, thereby avoiding this\\ndifficulty. The technique developed is a variant of dependency-directed\\nbacktracking that uses only polynomial space while still providing useful\\ncontrol information and retaining the completeness guarantees provided by\\nearlier approaches.']"
            ]
          },
          "metadata": {},
          "execution_count": 26
        }
      ]
    },
    {
      "cell_type": "code",
      "source": [
        "import re\n",
        "\n",
        "cleaned_paras = list(\n",
        "    filter(\n",
        "        None,\n",
        "        map(\n",
        "            lambda para: re.sub(r'[^a-zA-Z0-9.,;:!?()\\'\" -]', '',\n",
        "                re.sub(r'\\s+', ' ', para.strip())\n",
        "            ),\n",
        "            paragraphs\n",
        "        )\n",
        "    )\n",
        ")\n",
        "\n",
        "_ = list(map(lambda i_p: print(f\"Paragraph {i_p[0]+1}: {i_p[1]}\\n\"), enumerate(cleaned_paras)))\n"
      ],
      "metadata": {
        "id": "8L3lF6wwEn5g",
        "colab": {
          "base_uri": "https://localhost:8080/"
        },
        "outputId": "14736657-d50c-43e3-9a3a-ea4800e3af01"
      },
      "execution_count": 28,
      "outputs": [
        {
          "output_type": "stream",
          "name": "stdout",
          "text": [
            "Paragraph 1: Because of their occasional need to return to shallow points in a search tree, existing backtracking methods can sometimes erase meaningful progress toward solving a search problem. In this paper, we present a method by which backtrack points can be moved deeper in the search space, thereby avoiding this difficulty. The technique developed is a variant of dependency-directed backtracking that uses only polynomial space while still providing useful control information and retaining the completeness guarantees provided by earlier approaches.\n",
            "\n"
          ]
        }
      ]
    },
    {
      "cell_type": "code",
      "source": [
        "import nltk\n",
        "from nltk.tokenize import sent_tokenize\n",
        "from itertools import chain\n",
        "from transformers import BertTokenizer, BertModel\n",
        "\n",
        "nltk.download(\"punkt_tab\")\n",
        "\n",
        "sentences = list(chain.from_iterable(map(sent_tokenize, cleaned_paras)))"
      ],
      "metadata": {
        "id": "39VmDmn6PA5B",
        "colab": {
          "base_uri": "https://localhost:8080/"
        },
        "outputId": "4c682c56-0bbf-4f8f-faaa-d21dfcbb5745"
      },
      "execution_count": 29,
      "outputs": [
        {
          "output_type": "stream",
          "name": "stderr",
          "text": [
            "[nltk_data] Downloading package punkt_tab to /root/nltk_data...\n",
            "[nltk_data]   Package punkt_tab is already up-to-date!\n"
          ]
        }
      ]
    },
    {
      "cell_type": "code",
      "source": [
        "tokenizer = AutoTokenizer.from_pretrained(\"bert-base-uncased\")\n",
        "model = BertModel.from_pretrained(\"bert-base-uncased\")\n",
        "\n",
        "encoded = tokenizer(    # converts sentences to tokens\n",
        "    sentences,\n",
        "    padding=True,\n",
        "    truncation=True,\n",
        "    return_tensors=\"pt\"\n",
        ")\n",
        "\n",
        "with torch.no_grad():   # converts tokens to token embeddings\n",
        "    outputs = model(**encoded)\n",
        "\n",
        "embeddings = outputs.last_hidden_state    # converts token embeddings to sentence embeddings\n",
        "sentence_embeddings = embeddings.mean(dim=1)\n",
        "\n",
        "sentences_per_para = list(map(sent_tokenize, cleaned_paras))\n",
        "para_lengths = list(map(len, sentences_per_para))\n",
        "\n",
        "sentence_groups = torch.split(sentence_embeddings, para_lengths)"
      ],
      "metadata": {
        "id": "79K5HmUYWnuU"
      },
      "execution_count": 30,
      "outputs": []
    },
    {
      "cell_type": "code",
      "source": [
        "import torch.nn.functional as F\n",
        "from operator import itemgetter\n",
        "\n",
        "def summarize_all_paragraphs(sentence_groups, sentences_per_para, k=2):\n",
        "    def summarize_one(group_sents):\n",
        "        group, para_sents = group_sents\n",
        "        if group.size(0) == 0:\n",
        "            return \"\"\n",
        "\n",
        "        para_embedding = group.mean(dim=0, keepdim=True)\n",
        "        scores = F.cosine_similarity(group, para_embedding)\n",
        "        k_safe = min(k, group.size(0))\n",
        "\n",
        "        top_idx = scores.topk(k_safe).indices\n",
        "        sorted_idx, _ = torch.sort(top_idx)\n",
        "\n",
        "        selected = itemgetter(*sorted_idx.tolist())(para_sents)\n",
        "\n",
        "        if isinstance(selected, tuple):\n",
        "            return \" \".join(selected)\n",
        "        else:\n",
        "            return selected\n",
        "\n",
        "    return list(map(summarize_one, zip(sentence_groups, sentences_per_para)))\n"
      ],
      "metadata": {
        "id": "dCSE1rUckpHy"
      },
      "execution_count": 31,
      "outputs": []
    },
    {
      "cell_type": "code",
      "source": [
        "local_summaries = summarize_all_paragraphs(sentence_groups, sentences_per_para, k=4)\n",
        "\n",
        "local_summaries"
      ],
      "metadata": {
        "id": "NJsSoDNEo1-g",
        "colab": {
          "base_uri": "https://localhost:8080/"
        },
        "outputId": "8a30f773-cd05-47e6-c962-cea5d25b5f22"
      },
      "execution_count": 32,
      "outputs": [
        {
          "output_type": "execute_result",
          "data": {
            "text/plain": [
              "['Because of their occasional need to return to shallow points in a search tree, existing backtracking methods can sometimes erase meaningful progress toward solving a search problem. In this paper, we present a method by which backtrack points can be moved deeper in the search space, thereby avoiding this difficulty. The technique developed is a variant of dependency-directed backtracking that uses only polynomial space while still providing useful control information and retaining the completeness guarantees provided by earlier approaches.']"
            ]
          },
          "metadata": {},
          "execution_count": 32
        }
      ]
    },
    {
      "cell_type": "code",
      "source": [
        "def clean_text_list(texts):\n",
        "    \"\"\"Remove None, numbers, and extra whitespace.\"\"\"\n",
        "    cleaned = []\n",
        "    for t in texts:\n",
        "        if not isinstance(t, str):\n",
        "            continue\n",
        "        t = t.strip().replace('\\n', ' ')\n",
        "        if len(t) < 10:  # skip too-short fragments\n",
        "            continue\n",
        "        cleaned.append(t)\n",
        "    return cleaned\n",
        "\n",
        "clean_summaries = clean_text_list(local_summaries)\n",
        "\n",
        "if not clean_summaries:\n",
        "    print(\"⚠️ No valid text found! Using raw OCR text instead.\")\n",
        "    clean_summaries = text_to_be_split.split(\"\\n\\n\")"
      ],
      "metadata": {
        "id": "Y_pYNnWVh5_y"
      },
      "execution_count": 33,
      "outputs": []
    },
    {
      "cell_type": "code",
      "source": [
        "from transformers import BartTokenizer, BartForConditionalGeneration\n",
        "\n",
        "bart_tokenizer = BartTokenizer.from_pretrained(\"facebook/bart-large-cnn\")\n",
        "bart_model = BartForConditionalGeneration.from_pretrained(\"facebook/bart-large-cnn\")\n",
        "\n",
        "inputs = bart_tokenizer(\n",
        "    clean_summaries,\n",
        "    return_tensors=\"pt\",\n",
        "    truncation=True,\n",
        "    padding=True,\n",
        "    max_length=1024\n",
        ")\n",
        "\n",
        "with torch.no_grad():\n",
        "    summary_ids = bart_model.generate(\n",
        "        inputs[\"input_ids\"],\n",
        "        num_beams=4,\n",
        "        max_length=80,\n",
        "        min_length=20,\n",
        "        length_penalty=2.0,\n",
        "        early_stopping=True\n",
        "    )\n",
        "\n",
        "decoded_summaries = bart_tokenizer.batch_decode(summary_ids, skip_special_tokens=True)\n",
        "\n",
        "final_summaries = [\n",
        "    (decoded_summaries[i] if i < len(decoded_summaries) and decoded_summaries[i].strip() != \"\"\n",
        "     else clean_summaries[i])\n",
        "    for i in range(len(clean_summaries))\n",
        "]\n",
        "\n",
        "print(\"Final meaningful summaries:\")\n",
        "for i, s in enumerate(final_summaries):\n",
        "    print(f\"\\nSummary {i+1}: {s}\")\n"
      ],
      "metadata": {
        "colab": {
          "base_uri": "https://localhost:8080/"
        },
        "id": "rjn_7GiT6ZvD",
        "outputId": "2bcf6b0d-a6e6-40c0-ca41-af30e6b41c92"
      },
      "execution_count": 34,
      "outputs": [
        {
          "output_type": "stream",
          "name": "stdout",
          "text": [
            "Final meaningful summaries:\n",
            "\n",
            "Summary 1: Backtracking methods can sometimes erase meaningful progress toward solving a search problem. We present a method by which backtrack points can be moved deeper in the search space, thereby avoiding this difficulty.\n"
          ]
        }
      ]
    },
    {
      "cell_type": "code",
      "source": [
        "!pip install yake"
      ],
      "metadata": {
        "id": "oRPXkTc2Y-6B",
        "colab": {
          "base_uri": "https://localhost:8080/"
        },
        "outputId": "d827c9c1-886e-4725-dbbd-93b3d309573d"
      },
      "execution_count": 23,
      "outputs": [
        {
          "output_type": "stream",
          "name": "stdout",
          "text": [
            "Collecting yake\n",
            "  Downloading yake-0.6.0-py3-none-any.whl.metadata (10 kB)\n",
            "Requirement already satisfied: click>=6.0 in /usr/local/lib/python3.12/dist-packages (from yake) (8.3.0)\n",
            "Collecting jellyfish (from yake)\n",
            "  Downloading jellyfish-1.2.0-cp312-cp312-manylinux_2_17_x86_64.manylinux2014_x86_64.whl.metadata (2.6 kB)\n",
            "Requirement already satisfied: networkx in /usr/local/lib/python3.12/dist-packages (from yake) (3.5)\n",
            "Requirement already satisfied: numpy>=1.23.5 in /usr/local/lib/python3.12/dist-packages (from yake) (2.0.2)\n",
            "Collecting segtok (from yake)\n",
            "  Downloading segtok-1.5.11-py3-none-any.whl.metadata (9.0 kB)\n",
            "Requirement already satisfied: tabulate in /usr/local/lib/python3.12/dist-packages (from yake) (0.9.0)\n",
            "Requirement already satisfied: regex in /usr/local/lib/python3.12/dist-packages (from segtok->yake) (2024.11.6)\n",
            "Downloading yake-0.6.0-py3-none-any.whl (80 kB)\n",
            "\u001b[2K   \u001b[90m━━━━━━━━━━━━━━━━━━━━━━━━━━━━━━━━━━━━━━━━\u001b[0m \u001b[32m80.7/80.7 kB\u001b[0m \u001b[31m4.4 MB/s\u001b[0m eta \u001b[36m0:00:00\u001b[0m\n",
            "\u001b[?25hDownloading jellyfish-1.2.0-cp312-cp312-manylinux_2_17_x86_64.manylinux2014_x86_64.whl (355 kB)\n",
            "\u001b[2K   \u001b[90m━━━━━━━━━━━━━━━━━━━━━━━━━━━━━━━━━━━━━━━━\u001b[0m \u001b[32m355.9/355.9 kB\u001b[0m \u001b[31m16.4 MB/s\u001b[0m eta \u001b[36m0:00:00\u001b[0m\n",
            "\u001b[?25hDownloading segtok-1.5.11-py3-none-any.whl (24 kB)\n",
            "Installing collected packages: segtok, jellyfish, yake\n",
            "Successfully installed jellyfish-1.2.0 segtok-1.5.11 yake-0.6.0\n"
          ]
        }
      ]
    },
    {
      "cell_type": "code",
      "source": [
        "import yake\n",
        "from graphviz import Digraph\n",
        "from IPython.display import Image\n",
        "\n",
        "kw_extractor = yake.KeywordExtractor(lan=\"en\", n=3, top=1)\n",
        "\n",
        "def get_title_from_para(text):\n",
        "    \"\"\"Extracts a meaningful title or fallback to first few words.\"\"\"\n",
        "    try:\n",
        "        keywords = kw_extractor.extract_keywords(text)\n",
        "        if keywords:\n",
        "            return keywords[0][0].title()\n",
        "        else:\n",
        "            return \" \".join(text.split()[:4]).title()\n",
        "    except:\n",
        "        return \"Untitled\"\n",
        "\n",
        "titles = list(map(get_title_from_para, final_summaries))\n",
        "\n",
        "def format_summary(text, max_words=25):\n",
        "    \"\"\"Ensure clean, readable one-liners.\"\"\"\n",
        "    words = text.split()\n",
        "    formatted = \" \".join(words[:max_words])\n",
        "    if len(words) > max_words:\n",
        "        formatted += \"...\"\n",
        "    return formatted.strip().capitalize()\n",
        "\n",
        "node_labels = list(map(lambda ts: f\"{ts[0]}\\n{format_summary(ts[1])}\", zip(titles, final_summaries)))\n",
        "\n",
        "dot = Digraph(comment=\"Student Revision Flowchart\", format=\"png\")\n",
        "dot.attr(rankdir=\"TB\", nodesep=\"0.5\", ranksep=\"1\", fontsize=\"12\")\n",
        "\n",
        "list(map(lambda i_ts: dot.node(f\"Step{i_ts[0]+1}\", i_ts[1], shape=\"box\", style=\"rounded,filled\", fillcolor=\"lightblue\", color=\"black\"), enumerate(node_labels)))\n",
        "\n",
        "list(map(lambda i: dot.edge(f\"Step{i+1}\", f\"Step{i+2}\"), range(len(node_labels)-1)))\n",
        "\n",
        "dot.render(\"student_revision_flowchart\", format=\"png\", cleanup=True)\n",
        "Image(\"student_revision_flowchart.png\")\n"
      ],
      "metadata": {
        "id": "lUQDhtyM_UWG",
        "colab": {
          "base_uri": "https://localhost:8080/",
          "height": 78
        },
        "outputId": "ebb55caf-9617-4aae-e9ec-c4b735e79b88"
      },
      "execution_count": 35,
      "outputs": [
        {
          "output_type": "execute_result",
          "data": {
            "image/png": "[encoded data removed]",
            "text/plain": [
              "<IPython.core.display.Image object>"
            ]
          },
          "metadata": {},
          "execution_count": 35
        }
      ]
    },
    {
      "cell_type": "code",
      "source": [
        "#from transformers import pipeline\n",
        "#from graphviz import Digraph\n",
        "#from IPython.display import Image\n",
        "\n",
        "#title_gen = pipeline(\"text2text-generation\", model=\"facebook/bart-large-cnn\")\n",
        "#titles = list(map(lambda s: title_gen(\"Generate a short title: \" + s, max_length=10, do_sample=False)[0]['generated_text'], final_summaries))\n",
        "\n",
        "#dot = Digraph(comment=\"Student Revision Flowchart\", format=\"png\")\n",
        "#list(map(lambda i_ts: dot.node(f\"Step{i_ts[0]+1}\", i_ts[1]), enumerate(titles)))\n",
        "#list(map(lambda i: dot.edge(f\"Step{i+1}\", f\"Step{i+2}\"), range(len(titles)-1)))\n",
        "\n",
        "#dot.render(\"student_revision_flowchart_titles_only\", format=\"png\", cleanup=True)\n",
        "#Image(\"student_revision_flowchart_titles_only.png\")\n"
      ],
      "metadata": {
        "id": "8MXYNUqSg1Po"
      },
      "execution_count": null,
      "outputs": []
    },
    {
      "cell_type": "code",
      "source": [],
      "metadata": {
        "id": "oTvWM7vUDOM9"
      },
      "execution_count": null,
      "outputs": []
    }
  ]
}